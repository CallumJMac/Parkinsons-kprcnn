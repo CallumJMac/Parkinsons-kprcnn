{
 "cells": [
  {
   "cell_type": "code",
   "execution_count": 5,
   "metadata": {},
   "outputs": [],
   "source": [
    "import os, json, cv2, numpy as np, matplotlib.pyplot as plt, pandas as pd\n",
    "\n",
    "import torch\n",
    "from torch.utils.data import Dataset, DataLoader\n",
    "\n",
    "import torchvision\n",
    "from torchvision.models.detection.rpn import AnchorGenerator\n",
    "from torchvision.transforms import functional as F\n",
    "\n",
    "import albumentations as A # Library for augmentations"
   ]
  },
  {
   "cell_type": "code",
   "execution_count": 61,
   "metadata": {},
   "outputs": [],
   "source": [
    "# setting seeds for reproducability\n",
    "torch.manual_seed(69)\n",
    "\n",
    "import random\n",
    "random.seed(69)\n",
    "\n",
    "np.random.seed(69)"
   ]
  },
  {
   "cell_type": "markdown",
   "metadata": {},
   "source": [
    "# change the number of keypoints in cocotools\n",
    "\n",
    "C:\\Users\\CallumMacpherson\\anaconda3\\envs\\park\\Lib\\site-packages\\pycocotools"
   ]
  },
  {
   "cell_type": "markdown",
   "metadata": {},
   "source": [
    "# 1. Imports"
   ]
  },
  {
   "cell_type": "code",
   "execution_count": 6,
   "metadata": {},
   "outputs": [],
   "source": [
    "# https://github.com/pytorch/vision/tree/main/references/detection\n",
    "import transforms, utils, engine, train\n",
    "from utils import collate_fn\n",
    "from engine import train_one_epoch, evaluate"
   ]
  },
  {
   "cell_type": "markdown",
   "metadata": {},
   "source": [
    "# 2. Setting up the dataset"
   ]
  },
  {
   "cell_type": "code",
   "execution_count": 7,
   "metadata": {},
   "outputs": [],
   "source": [
    "anno_dir = \"../BBox_keypoint.csv\""
   ]
  },
  {
   "cell_type": "code",
   "execution_count": 10,
   "metadata": {},
   "outputs": [],
   "source": [
    "labels_df = pd.read_csv(anno_dir, index_col=0)"
   ]
  },
  {
   "cell_type": "code",
   "execution_count": 12,
   "metadata": {},
   "outputs": [
    {
     "data": {
      "text/html": [
       "<div>\n",
       "<style scoped>\n",
       "    .dataframe tbody tr th:only-of-type {\n",
       "        vertical-align: middle;\n",
       "    }\n",
       "\n",
       "    .dataframe tbody tr th {\n",
       "        vertical-align: top;\n",
       "    }\n",
       "\n",
       "    .dataframe thead th {\n",
       "        text-align: right;\n",
       "    }\n",
       "</style>\n",
       "<table border=\"1\" class=\"dataframe\">\n",
       "  <thead>\n",
       "    <tr style=\"text-align: right;\">\n",
       "      <th></th>\n",
       "      <th>patient ID</th>\n",
       "      <th>img_no</th>\n",
       "      <th>finger x</th>\n",
       "      <th>finger y</th>\n",
       "      <th>thumb x</th>\n",
       "      <th>thumb y</th>\n",
       "      <th>wristlow x</th>\n",
       "      <th>wristlow y</th>\n",
       "      <th>wristhigh x</th>\n",
       "      <th>wristhigh y</th>\n",
       "      <th>knuckle1 x</th>\n",
       "      <th>knuckle1 y</th>\n",
       "      <th>knuckle2 x</th>\n",
       "      <th>knuckle2 y</th>\n",
       "      <th>class</th>\n",
       "      <th>x1</th>\n",
       "      <th>y1</th>\n",
       "      <th>x2</th>\n",
       "      <th>y2</th>\n",
       "    </tr>\n",
       "  </thead>\n",
       "  <tbody>\n",
       "    <tr>\n",
       "      <th>0</th>\n",
       "      <td>OC01_R_10s_lowfps</td>\n",
       "      <td>img000.png</td>\n",
       "      <td>527.435088</td>\n",
       "      <td>643.753157</td>\n",
       "      <td>568.125216</td>\n",
       "      <td>694.943964</td>\n",
       "      <td>826.704422</td>\n",
       "      <td>924.646304</td>\n",
       "      <td>909.397265</td>\n",
       "      <td>822.264690</td>\n",
       "      <td>795.202387</td>\n",
       "      <td>652.941250</td>\n",
       "      <td>648.192889</td>\n",
       "      <td>637.190233</td>\n",
       "      <td>0</td>\n",
       "      <td>121.663802</td>\n",
       "      <td>113.942607</td>\n",
       "      <td>1241.663802</td>\n",
       "      <td>1233.942607</td>\n",
       "    </tr>\n",
       "    <tr>\n",
       "      <th>1</th>\n",
       "      <td>OC01_R_10s_lowfps</td>\n",
       "      <td>img001.png</td>\n",
       "      <td>535.072768</td>\n",
       "      <td>643.354545</td>\n",
       "      <td>567.283288</td>\n",
       "      <td>691.011391</td>\n",
       "      <td>832.045460</td>\n",
       "      <td>928.036573</td>\n",
       "      <td>910.213339</td>\n",
       "      <td>824.653249</td>\n",
       "      <td>801.786926</td>\n",
       "      <td>645.623590</td>\n",
       "      <td>650.494256</td>\n",
       "      <td>638.058957</td>\n",
       "      <td>0</td>\n",
       "      <td>124.535107</td>\n",
       "      <td>108.317490</td>\n",
       "      <td>1244.535107</td>\n",
       "      <td>1228.317490</td>\n",
       "    </tr>\n",
       "    <tr>\n",
       "      <th>2</th>\n",
       "      <td>OC01_R_10s_lowfps</td>\n",
       "      <td>img002.png</td>\n",
       "      <td>533.811996</td>\n",
       "      <td>637.657582</td>\n",
       "      <td>567.946800</td>\n",
       "      <td>693.272491</td>\n",
       "      <td>830.170829</td>\n",
       "      <td>923.506428</td>\n",
       "      <td>912.121025</td>\n",
       "      <td>820.123104</td>\n",
       "      <td>797.390751</td>\n",
       "      <td>648.658079</td>\n",
       "      <td>653.662715</td>\n",
       "      <td>638.571901</td>\n",
       "      <td>0</td>\n",
       "      <td>122.668775</td>\n",
       "      <td>110.965285</td>\n",
       "      <td>1242.668775</td>\n",
       "      <td>1230.965285</td>\n",
       "    </tr>\n",
       "    <tr>\n",
       "      <th>3</th>\n",
       "      <td>OC01_R_10s_lowfps</td>\n",
       "      <td>img003.png</td>\n",
       "      <td>527.324229</td>\n",
       "      <td>636.657715</td>\n",
       "      <td>567.484718</td>\n",
       "      <td>691.878388</td>\n",
       "      <td>824.762853</td>\n",
       "      <td>921.546186</td>\n",
       "      <td>913.868939</td>\n",
       "      <td>821.144963</td>\n",
       "      <td>793.387471</td>\n",
       "      <td>651.717898</td>\n",
       "      <td>649.060712</td>\n",
       "      <td>639.167745</td>\n",
       "      <td>0</td>\n",
       "      <td>120.436095</td>\n",
       "      <td>111.798143</td>\n",
       "      <td>1240.436095</td>\n",
       "      <td>1231.798143</td>\n",
       "    </tr>\n",
       "    <tr>\n",
       "      <th>4</th>\n",
       "      <td>OC01_R_10s_lowfps</td>\n",
       "      <td>img004.png</td>\n",
       "      <td>528.169044</td>\n",
       "      <td>636.975038</td>\n",
       "      <td>567.431449</td>\n",
       "      <td>691.435793</td>\n",
       "      <td>808.071996</td>\n",
       "      <td>911.811873</td>\n",
       "      <td>908.127803</td>\n",
       "      <td>814.289125</td>\n",
       "      <td>797.939763</td>\n",
       "      <td>647.107271</td>\n",
       "      <td>652.288905</td>\n",
       "      <td>639.508096</td>\n",
       "      <td>0</td>\n",
       "      <td>122.685606</td>\n",
       "      <td>109.271532</td>\n",
       "      <td>1242.685606</td>\n",
       "      <td>1229.271532</td>\n",
       "    </tr>\n",
       "  </tbody>\n",
       "</table>\n",
       "</div>"
      ],
      "text/plain": [
       "          patient ID      img_no    finger x    finger y     thumb x  \\\n",
       "0  OC01_R_10s_lowfps  img000.png  527.435088  643.753157  568.125216   \n",
       "1  OC01_R_10s_lowfps  img001.png  535.072768  643.354545  567.283288   \n",
       "2  OC01_R_10s_lowfps  img002.png  533.811996  637.657582  567.946800   \n",
       "3  OC01_R_10s_lowfps  img003.png  527.324229  636.657715  567.484718   \n",
       "4  OC01_R_10s_lowfps  img004.png  528.169044  636.975038  567.431449   \n",
       "\n",
       "      thumb y  wristlow x  wristlow y  wristhigh x  wristhigh y  knuckle1 x  \\\n",
       "0  694.943964  826.704422  924.646304   909.397265   822.264690  795.202387   \n",
       "1  691.011391  832.045460  928.036573   910.213339   824.653249  801.786926   \n",
       "2  693.272491  830.170829  923.506428   912.121025   820.123104  797.390751   \n",
       "3  691.878388  824.762853  921.546186   913.868939   821.144963  793.387471   \n",
       "4  691.435793  808.071996  911.811873   908.127803   814.289125  797.939763   \n",
       "\n",
       "   knuckle1 y  knuckle2 x  knuckle2 y  class          x1          y1  \\\n",
       "0  652.941250  648.192889  637.190233      0  121.663802  113.942607   \n",
       "1  645.623590  650.494256  638.058957      0  124.535107  108.317490   \n",
       "2  648.658079  653.662715  638.571901      0  122.668775  110.965285   \n",
       "3  651.717898  649.060712  639.167745      0  120.436095  111.798143   \n",
       "4  647.107271  652.288905  639.508096      0  122.685606  109.271532   \n",
       "\n",
       "            x2           y2  \n",
       "0  1241.663802  1233.942607  \n",
       "1  1244.535107  1228.317490  \n",
       "2  1242.668775  1230.965285  \n",
       "3  1240.436095  1231.798143  \n",
       "4  1242.685606  1229.271532  "
      ]
     },
     "execution_count": 12,
     "metadata": {},
     "output_type": "execute_result"
    }
   ],
   "source": [
    "labels_df.head()"
   ]
  },
  {
   "cell_type": "markdown",
   "metadata": {},
   "source": [
    "## We want to rename all the files to patient ID + img_no"
   ]
  },
  {
   "cell_type": "code",
   "execution_count": 20,
   "metadata": {},
   "outputs": [],
   "source": [
    "data_dir = \"../data/labelledall vids\""
   ]
  },
  {
   "cell_type": "code",
   "execution_count": 58,
   "metadata": {},
   "outputs": [],
   "source": [
    "#renamng files\n",
    "for root, dirs, files in os.walk(data_dir):\n",
    "    # print(dirs)\n",
    "    for d in (dirs):\n",
    "        # print(os.path.join(root,d))\n",
    "        for r2, d2, f2 in os.walk(os.path.join(root, d)):\n",
    "            # print(r2, d2, f2)\n",
    "            for file in f2:\n",
    "                # print(file)\n",
    "                \n",
    "                name = (d + \"_\" + file)\n",
    "                os.rename(os.path.join(r2, file), os.path.join(r2,name))\n",
    "    #         break\n",
    "    #     break\n",
    "    # break"
   ]
  },
  {
   "cell_type": "code",
   "execution_count": 62,
   "metadata": {},
   "outputs": [],
   "source": [
    "outdir = \"../data/fullname\"\n",
    "\n",
    "for dirpath, dirnames, filenames in os.walk(data_dir):\n",
    "    # print(dirpath, dirnames, filenames)\n",
    "    for filename in [f for f in filenames if f.endswith(\".png\")]:\n",
    "        old_temp = os.path.join(dirpath, filename)\n",
    "        new_temp = os.path.join(outdir, filename)\n",
    "        os.rename(old_temp, new_temp)\n",
    "        # print(new_temp)"
   ]
  },
  {
   "cell_type": "markdown",
   "metadata": {},
   "source": [
    "# Making Train and Test dirs"
   ]
  },
  {
   "cell_type": "markdown",
   "metadata": {},
   "source": [
    "#90% train, 10% test"
   ]
  },
  {
   "cell_type": "code",
   "execution_count": null,
   "metadata": {},
   "outputs": [],
   "source": []
  },
  {
   "cell_type": "code",
   "execution_count": null,
   "metadata": {},
   "outputs": [],
   "source": []
  }
 ],
 "metadata": {
  "interpreter": {
   "hash": "0110a738cd8c79f741e396b40970863bb3ddb083326a017da531ba10dc1e4e3d"
  },
  "kernelspec": {
   "display_name": "park",
   "language": "python",
   "name": "park"
  },
  "language_info": {
   "codemirror_mode": {
    "name": "ipython",
    "version": 3
   },
   "file_extension": ".py",
   "mimetype": "text/x-python",
   "name": "python",
   "nbconvert_exporter": "python",
   "pygments_lexer": "ipython3",
   "version": "3.8.5"
  },
  "orig_nbformat": 4
 },
 "nbformat": 4,
 "nbformat_minor": 2
}
